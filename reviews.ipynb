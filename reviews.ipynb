{
 "cells": [
  {
   "cell_type": "code",
   "execution_count": 1,
   "metadata": {},
   "outputs": [],
   "source": [
    "import numpy as np\n",
    "import pandas as pd\n",
    "import matplotlib.pyplot as plt\n",
    "plt.style.use('ggplot')\n",
    "import seaborn as sns\n",
    "\n",
    "from collections import Counter\n",
    "from pyvi import ViTokenizer\n",
    "from tqdm import tqdm\n",
    "\n",
    "import torch\n",
    "import torch.nn as nn\n",
    "import torch.optim as optim\n",
    "import torch.nn.functional as F\n",
    "from torch.autograd import Variable\n",
    "from torch.utils.data import Dataset, DataLoader\n",
    "from torch.optim import lr_scheduler\n",
    "from pytorch_model_summary import summary\n",
    "\n",
    "from sklearn.model_selection import train_test_split\n",
    "from sklearn.metrics import classification_report, confusion_matrix, f1_score\n",
    "from sklearn.utils import resample\n",
    "\n",
    "import re\n",
    "import os\n",
    "import itertools"
   ]
  },
  {
   "cell_type": "code",
   "execution_count": null,
   "metadata": {},
   "outputs": [],
   "source": [
    "from torch.utils.tensorboard import SummaryWriter\n",
    "\n",
    "writer = SummaryWriter()"
   ]
  },
  {
   "cell_type": "code",
   "execution_count": null,
   "metadata": {},
   "outputs": [],
   "source": [
    "reviews = pd.read_csv(\"C:/Users/Admin/OneDrive - Đại học FPT- FPT University/This PC/Documents/Datasets/reviews.csv\")\n",
    "df = reviews[['content', 'score']]\n",
    "df.loc[df['content'].isnull(), 'content'] = ''\n",
    "df.head()"
   ]
  },
  {
   "cell_type": "code",
   "execution_count": null,
   "metadata": {},
   "outputs": [],
   "source": [
    "ax = df.score.value_counts().sort_index().plot(kind='barh', title='Count Reviews by Stars', figsize=(10, 5))\n",
    "ax.set_xlabel(\"Counts\")\n",
    "ax.set_ylabel(\"Ratings\")"
   ]
  },
  {
   "cell_type": "code",
   "execution_count": null,
   "metadata": {},
   "outputs": [],
   "source": [
    "class AttentionModel(torch.nn.Module):\n",
    "\tdef __init__(self, batch_size, output_size, hidden_size, vocab_size, embedding_length):\n",
    "\t\tsuper(AttentionModel, self).__init__()\n",
    "\t\tself.batch_size = batch_size\n",
    "\t\tself.output_size = output_size\n",
    "\t\tself.hidden_size = hidden_size\n",
    "\t\tself.vocab_size = vocab_size\n",
    "\t\tself.embedding_length = embedding_length\n",
    "\t\t\n",
    "\t\tself.word_embeddings = nn.Embedding(vocab_size, embedding_length)\n",
    "\t\tself.lstm = nn.LSTM(embedding_length, hidden_size)\n",
    "\t\tself.label = nn.Linear(hidden_size, output_size)\n",
    "\t\t\n",
    "\tdef attention_net(self, lstm_output, final_state):\n",
    "\t\thidden = final_state.squeeze(0)\n",
    "\t\tattn_weights = torch.bmm(lstm_output, hidden.unsqueeze(2)).squeeze(2)\n",
    "\t\tsoft_attn_weights = F.softmax(attn_weights, 1)\n",
    "\t\treturn torch.bmm(\n",
    "\t\t\tlstm_output.transpose(1, 2), soft_attn_weights.unsqueeze(2)\n",
    "\t\t).squeeze(2)\n",
    "\t\n",
    "\tdef forward(self, input_sentences, batch_size=None):\n",
    "\t\ti = self.word_embeddings(input_sentences)\n",
    "\t\ti = i.permute(1, 0, 2)\n",
    "\t\tif batch_size is None:\n",
    "\t\t\th_0 = Variable(torch.zeros(1, self.batch_size, self.hidden_size))\n",
    "\t\t\tc_0 = Variable(torch.zeros(1, self.batch_size, self.hidden_size))\n",
    "\t\telse:\n",
    "\t\t\th_0 = Variable(torch.zeros(1, batch_size, self.hidden_size))\n",
    "\t\t\tc_0 = Variable(torch.zeros(1, batch_size, self.hidden_size))\n",
    "\n",
    "\t\toutput, (final_hidden_state, final_cell_state) = self.lstm(i, (h_0, c_0))\n",
    "\t\toutput = output.permute(1, 0, 2)\n",
    "\n",
    "\t\tattn_output = self.attention_net(output, final_hidden_state)\n",
    "\t\treturn self.label(attn_output)"
   ]
  },
  {
   "cell_type": "code",
   "execution_count": null,
   "metadata": {},
   "outputs": [],
   "source": [
    "uniChars = \"àáảãạâầấẩẫậăằắẳẵặèéẻẽẹêềếểễệđìíỉĩịòóỏõọôồốổỗộơờớởỡợùúủũụưừứửữựỳýỷỹỵÀÁẢÃẠÂẦẤẨẪẬĂẰẮẲẴẶÈÉẺẼẸÊỀẾỂỄỆĐÌÍỈĨỊÒÓỎÕỌÔỒỐỔỖỘƠỜỚỞỠỢÙÚỦŨỤƯỪỨỬỮỰỲÝỶỸỴÂĂĐÔƠƯ\"\n",
    "unsignChars = \"aaaaaaaaaaaaaaaaaeeeeeeeeeeediiiiiooooooooooooooooouuuuuuuuuuuyyyyyAAAAAAAAAAAAAAAAAEEEEEEEEEEEDIIIOOOOOOOOOOOOOOOOOOOUUUUUUUUUUUYYYYYAADOOU\"\n",
    "\n",
    "def load_dic_char():\n",
    "    char1252 = 'à|á|ả|ã|ạ|ầ|ấ|ẩ|ẫ|ậ|ằ|ắ|ẳ|ẵ|ặ|è|é|ẻ|ẽ|ẹ|ề|ế|ể|ễ|ệ|ì|í|ỉ|ĩ|ị|ò|ó|ỏ|õ|ọ|ồ|ố|ổ|ỗ|ộ|ờ|ớ|ở|ỡ|ợ|ù|ú|ủ|ũ|ụ|ừ|ứ|ử|ữ|ự|ỳ|ý|ỷ|ỹ|ỵ|À|Á|Ả|Ã|Ạ|Ầ|Ấ|Ẩ|Ẫ|Ậ|Ằ|Ắ|Ẳ|Ẵ|Ặ|È|É|Ẻ|Ẽ|Ẹ|Ề|Ế|Ể|Ễ|Ệ|Ì|Í|Ỉ|Ĩ|Ị|Ò|Ó|Ỏ|Õ|Ọ|Ồ|Ố|Ổ|Ỗ|Ộ|Ờ|Ớ|Ở|Ỡ|Ợ|Ù|Ú|Ủ|Ũ|Ụ|Ừ|Ứ|Ử|Ữ|Ự|Ỳ|Ý|Ỷ|Ỹ|Ỵ'.split('|')\n",
    "    charutf8 = \"à|á|ả|ã|ạ|ầ|ấ|ẩ|ẫ|ậ|ằ|ắ|ẳ|ẵ|ặ|è|é|ẻ|ẽ|ẹ|ề|ế|ể|ễ|ệ|ì|í|ỉ|ĩ|ị|ò|ó|ỏ|õ|ọ|ồ|ố|ổ|ỗ|ộ|ờ|ớ|ở|ỡ|ợ|ù|ú|ủ|ũ|ụ|ừ|ứ|ử|ữ|ự|ỳ|ý|ỷ|ỹ|ỵ|À|Á|Ả|Ã|Ạ|Ầ|Ấ|Ẩ|Ẫ|Ậ|Ằ|Ắ|Ẳ|Ẵ|Ặ|È|É|Ẻ|Ẽ|Ẹ|Ề|Ế|Ể|Ễ|Ệ|Ì|Í|Ỉ|Ĩ|Ị|Ò|Ó|Ỏ|Õ|Ọ|Ồ|Ố|Ổ|Ỗ|Ộ|Ờ|Ớ|Ở|Ỡ|Ợ|Ù|Ú|Ủ|Ũ|Ụ|Ừ|Ứ|Ử|Ữ|Ự|Ỳ|Ý|Ỷ|Ỹ|Ỵ\".split('|')\n",
    "    return {char1252[i]: charutf8[i] for i in range(len(char1252))}\n",
    "\n",
    "dicchar = load_dic_char()\n",
    "\n",
    "def convert_unicode(text):\n",
    "    return re.sub(r'à|á|ả|ã|ạ|ầ|ấ|ẩ|ẫ|ậ|ằ|ắ|ẳ|ẵ|ặ|è|é|ẻ|ẽ|ẹ|ề|ế|ể|ễ|ệ|ì|í|ỉ|ĩ|ị|ò|ó|ỏ|õ|ọ|ồ|ố|ổ|ỗ|ộ|ờ|ớ|ở|ỡ|ợ|ù|ú|ủ|ũ|ụ|ừ|ứ|ử|ữ|ự|ỳ|ý|ỷ|ỹ|ỵ|À|Á|Ả|Ã|Ạ|Ầ|Ấ|Ẩ|Ẫ|Ậ|Ằ|Ắ|Ẳ|Ẵ|Ặ|È|É|Ẻ|Ẽ|Ẹ|Ề|Ế|Ể|Ễ|Ệ|Ì|Í|Ỉ|Ĩ|Ị|Ò|Ó|Ỏ|Õ|Ọ|Ồ|Ố|Ổ|Ỗ|Ộ|Ờ|Ớ|Ở|Ỡ|Ợ|Ù|Ú|Ủ|Ũ|Ụ|Ừ|Ứ|Ử|Ữ|Ự|Ỳ|Ý|Ỷ|Ỹ|Ỵ', lambda x: dicchar[x.group()], text)\n",
    "\n",
    "def clean_text(text):\n",
    "    text_uni = convert_unicode(text).lower()\n",
    "    text_rmspectoken = re.findall(r'(?i)\\b[a-záàảãạăắằẳẵặâấầẩẫậéèẻẽẹêếềểễệóòỏõọôốồổỗộơớờởỡợíìỉĩịúùủũụưứừửữựýỳỷỹỵđ0-9]+\\b', text_uni)\n",
    "    return ' '.join(text_rmspectoken)\n",
    "\n",
    "df.loc[:, 'content'] = df['content'].apply(clean_text)\n",
    "df.head(20)"
   ]
  },
  {
   "cell_type": "code",
   "execution_count": null,
   "metadata": {},
   "outputs": [],
   "source": [
    "class CustomDataset(Dataset):\n",
    "    def __init__(self, x, y):\n",
    "        self.x = x\n",
    "        self.y = y\n",
    "\n",
    "    def __len__(self):\n",
    "        return len(self.y)\n",
    "\n",
    "    def __getitem__(self, idx):\n",
    "        return torch.from_numpy(self.x[idx][0].astype(np.float32)), self.y[idx]"
   ]
  },
  {
   "cell_type": "code",
   "execution_count": null,
   "metadata": {},
   "outputs": [],
   "source": [
    "df['label'] = df['score'].map({5: 2, 4: 1, 3: 1, 2: 0, 1: 0})\n",
    "df['sentiment'] = df['label']. map({2: 'positive', 1: 'neutral', 0: 'negative'})\n",
    "df.head()"
   ]
  },
  {
   "cell_type": "code",
   "execution_count": null,
   "metadata": {},
   "outputs": [],
   "source": [
    "df.sentiment.value_counts()"
   ]
  },
  {
   "cell_type": "code",
   "execution_count": null,
   "metadata": {},
   "outputs": [],
   "source": [
    "positive = df[df['label'] == 2]\n",
    "neutral = df[df['label'] == 1]\n",
    "negative = df[df['label'] == 0]\n",
    "\n",
    "upsampling_neutral = resample(neutral, random_state=42, n_samples=2000, replace=True)\n",
    "upsampling_negative = resample(negative, random_state=42, n_samples=2000, replace=True)\n",
    "\n",
    "df = pd.concat([df, upsampling_neutral, upsampling_negative])\n",
    "df['length'] = [len(item) for item in list(df['content'])]\n",
    "df['num_word'] = [len(item.split(' ')) for item in list(df['content'])]\n",
    "df.shape"
   ]
  },
  {
   "cell_type": "code",
   "execution_count": null,
   "metadata": {},
   "outputs": [],
   "source": [
    "sns.histplot(data=df['num_word'], bins=20, kde=True)\n",
    "print(f\"Mean: {np.mean(df['num_word'])}\")"
   ]
  },
  {
   "cell_type": "code",
   "execution_count": null,
   "metadata": {},
   "outputs": [],
   "source": [
    "def tokenize(text):\n",
    "    list_token = ViTokenizer.tokenize(text)\n",
    "    return list_token.split(' ')\n",
    "\n",
    "counts = Counter()\n",
    "for i, n in df.iterrows():\n",
    "    counts.update(tokenize(n['content']))\n",
    "\n",
    "print(\"num_words before:\", len(counts.keys()))\n",
    "\n",
    "for word in list(counts):\n",
    "    if counts[word] < 2:\n",
    "        del counts[word]\n",
    "\n",
    "print(\"num_words after:\", len(counts.keys()))"
   ]
  },
  {
   "cell_type": "code",
   "execution_count": null,
   "metadata": {},
   "outputs": [],
   "source": [
    "vocab2index = {\"\": 0, \"UNK\": 1}\n",
    "words = [\"\", \"UNK\"]\n",
    "for word in counts:\n",
    "    vocab2index[word] = len(words)\n",
    "    words.append(word)\n",
    "\n",
    "def encode_sentence(text, vocab2index, n=50):\n",
    "    tokenized = tokenize(text)\n",
    "    encoded = np.zeros(n, dtype=int)\n",
    "    enc1 = np.array([vocab2index.get(word, vocab2index[\"UNK\"]) for word in tokenized])\n",
    "    length = min(n, len(enc1))\n",
    "    encoded[:length] = enc1[:length]\n",
    "    return [encoded]\n",
    "\n",
    "df['encoded'] = df['content'].apply(lambda x: np.array(encode_sentence(x, vocab2index)))\n",
    "df.head()"
   ]
  },
  {
   "cell_type": "code",
   "execution_count": null,
   "metadata": {},
   "outputs": [],
   "source": [
    "df.to_csv(\"C:/Users/Admin/OneDrive - Đại học FPT- FPT University/This PC/Documents/Datasets/sentiment.csv\")"
   ]
  },
  {
   "cell_type": "code",
   "execution_count": null,
   "metadata": {},
   "outputs": [],
   "source": [
    "x = list(df['encoded'])\n",
    "y = list(df['label'])\n",
    "\n",
    "x_train, x_test, y_train, y_test = train_test_split(x, y, test_size=0.3,random_state=42)"
   ]
  },
  {
   "cell_type": "code",
   "execution_count": null,
   "metadata": {},
   "outputs": [],
   "source": [
    "print(len(x_train))\n",
    "print(len(x_test))"
   ]
  },
  {
   "cell_type": "code",
   "execution_count": null,
   "metadata": {},
   "outputs": [],
   "source": [
    "class_counts = np.bincount(y_train)\n",
    "total_samples = len(y_train)\n",
    "class_weights = torch.tensor(total_samples / (len(class_counts) * class_counts), dtype=torch.float)\n",
    "\n",
    "print(class_weights)"
   ]
  },
  {
   "cell_type": "code",
   "execution_count": null,
   "metadata": {},
   "outputs": [],
   "source": [
    "train_dataset = CustomDataset(x_train, y_train)\n",
    "test_dataset = CustomDataset(x_test, y_test)"
   ]
  },
  {
   "cell_type": "code",
   "execution_count": null,
   "metadata": {},
   "outputs": [],
   "source": [
    "batch_size = 1\n",
    "vocab_size = len(words)\n",
    "output_size = 3\n",
    "hidden_size = 128\n",
    "embedding_length = 400\n",
    "\n",
    "train_loader = DataLoader(train_dataset, batch_size=batch_size, shuffle=True)\n",
    "test_loader = DataLoader(test_dataset, batch_size=batch_size, shuffle=False)\n",
    "\n",
    "model = AttentionModel(batch_size=batch_size, \n",
    "                        output_size=output_size, \n",
    "                        hidden_size=hidden_size, \n",
    "                        vocab_size=vocab_size, \n",
    "                        embedding_length=embedding_length\n",
    "                        )"
   ]
  },
  {
   "cell_type": "code",
   "execution_count": null,
   "metadata": {},
   "outputs": [],
   "source": [
    "model = model.train()"
   ]
  },
  {
   "cell_type": "code",
   "execution_count": null,
   "metadata": {},
   "outputs": [],
   "source": [
    "optimizer = optim.Adam(model.parameters(), lr=1e-3)\n",
    "criterion = nn.CrossEntropyLoss(weight=class_weights)\n",
    "exp_lr_scheduler = lr_scheduler.StepLR(optimizer, step_size=5, gamma=0.8)"
   ]
  },
  {
   "cell_type": "code",
   "execution_count": null,
   "metadata": {},
   "outputs": [],
   "source": [
    "def train_one_epoch(model, train_dl, optimizer, criterion, writer, epoch):\n",
    "    epoch_loss = 0\n",
    "    list_pred = []\n",
    "    list_true = []\n",
    "    for x, y in train_dl:\n",
    "        y = y.type(torch.int64)\n",
    "        x = x.long()\n",
    "\n",
    "        y_pred = model(x)\n",
    "\n",
    "        optimizer.zero_grad()\n",
    "\n",
    "        loss = criterion(y_pred, y)\n",
    "\n",
    "        writer.add_scalar(\"Loss/train\", loss, epoch)\n",
    "\n",
    "        loss.backward()\n",
    "        optimizer.step()\n",
    "\n",
    "        epoch_loss += loss.item()\n",
    "        list_pred.extend(y_pred.argmax(dim=1).tolist())\n",
    "        list_true.extend(y.tolist())\n",
    "    return epoch_loss / len(train_dl), list_pred, list_true"
   ]
  },
  {
   "cell_type": "code",
   "execution_count": null,
   "metadata": {},
   "outputs": [],
   "source": [
    "def evaluate_one_epoch(model, valid_dl, criterion, writer, epoch):\n",
    "    model.eval()\n",
    "    epoch_loss = 0\n",
    "    list_true = []\n",
    "    list_pred = []\n",
    "    with torch.no_grad():\n",
    "        for x, y in valid_dl:\n",
    "            y = y.type(torch.int64)\n",
    "            x = x.long()\n",
    "            y_hat = model(x)\n",
    "            loss = criterion(y_hat, y)\n",
    "            writer.add_scalar(\"Loss/valid\", loss, epoch)\n",
    "            epoch_loss += loss.item()\n",
    "            list_true.extend(y.tolist())\n",
    "            list_pred.extend(y_hat.argmax(dim=1).tolist())\n",
    "    return epoch_loss / len(valid_dl), list_true, list_pred"
   ]
  },
  {
   "cell_type": "code",
   "execution_count": null,
   "metadata": {},
   "outputs": [],
   "source": [
    "loss = []\n",
    "acc = []\n",
    "val_loss = []\n",
    "acc_max = 0\n",
    "valid_loss_min = 1.\n",
    "\n",
    "for epoch in tqdm(range(30)):\n",
    "    train_loss, train_pred, train_true = train_one_epoch(model, train_loader, optimizer, criterion, writer, epoch)\n",
    "    valid_loss, test_true, test_pred = evaluate_one_epoch(model, test_loader, criterion, writer, epoch)\n",
    "    print('Epoch-{0} lr: {1}'.format(epoch, optimizer.param_groups[0]['lr']))\n",
    "    print(f'\\tTrain Loss: {train_loss:.3f} | Valid Loss: {valid_loss:.3f}')\n",
    "\n",
    "    if valid_loss < valid_loss_min:\n",
    "        valid_loss_min = valid_loss\n",
    "        checkpoint = {\n",
    "            'model': model,\n",
    "            'state_dict': model.state_dict(),\n",
    "            'optimizer': optimizer.state_dict()\n",
    "        }\n",
    "        torch.save(\n",
    "            checkpoint,\n",
    "            f'checkpoint_{valid_loss_min}.pth',\n",
    "        )\n",
    "\n",
    "    exp_lr_scheduler.step()\n",
    "\n",
    "writer.flush()\n",
    "writer.close()"
   ]
  },
  {
   "cell_type": "code",
   "execution_count": null,
   "metadata": {},
   "outputs": [],
   "source": [
    "def load_checkpoint(filepath):\n",
    "    checkpoint = torch.load(filepath)\n",
    "    model = checkpoint['model']\n",
    "    model.load_state_dict(checkpoint['state_dict'])\n",
    "    for parameter in model.parameters():\n",
    "        parameter.requires_grad = False\n",
    "\n",
    "    model.eval()\n",
    "    return model"
   ]
  },
  {
   "cell_type": "code",
   "execution_count": null,
   "metadata": {},
   "outputs": [],
   "source": [
    "checkpoint_files = os.listdir(\"C:\\\\Users\\\\Admin\\\\Documents\\\\Google Drive\\\\huytvo.2003@gmail.com\\\\My Drive\\\\Colab Notebooks\")\n",
    "\n",
    "checkpoint_files = [filename for filename in checkpoint_files if filename.startswith('checkpoint_') and filename.endswith('.pth')]\n",
    "checkpoint_files = sorted(checkpoint_files, key=lambda x: float(x.split('checkpoint_')[1].replace('.pth', '')))\n",
    "\n",
    "if len(checkpoint_files) == 0:\n",
    "    print(\"No valid checkpoint files found.\")\n",
    "\n",
    "best_checkpoint_file = checkpoint_files[0]\n",
    "best_checkpoint_path = os.path.join(\"C:\\\\Users\\\\Admin\\\\Documents\\\\Google Drive\\\\huytvo.2003@gmail.com\\\\My Drive\\\\Colab Notebooks\", best_checkpoint_file)\n",
    "\n",
    "load_model = load_checkpoint(best_checkpoint_path)"
   ]
  },
  {
   "cell_type": "code",
   "execution_count": null,
   "metadata": {},
   "outputs": [],
   "source": [
    "print(summary(load_model, torch.zeros([1, 50]).long(), show_input=True))"
   ]
  },
  {
   "cell_type": "code",
   "execution_count": null,
   "metadata": {},
   "outputs": [],
   "source": [
    "print(load_model)"
   ]
  },
  {
   "cell_type": "code",
   "execution_count": null,
   "metadata": {},
   "outputs": [],
   "source": [
    "print(classification_report(test_true, test_pred, target_names=['negative', 'neutral', 'positive']))"
   ]
  },
  {
   "cell_type": "code",
   "execution_count": null,
   "metadata": {},
   "outputs": [],
   "source": [
    "def plot_confusion_matrix(cm, target_names, title='Confusion Matrix', cmap='Blues', normalize=False):\n",
    "    accuracy = np.trace(cm) / cm.sum()\n",
    "    misclass = 1 - accuracy\n",
    "\n",
    "    if normalize:\n",
    "        cm = cm.astype('float') / cm.sum(axis=1, keepdims=True)\n",
    "\n",
    "    plt.imshow(cm, interpolation='nearest', cmap=cmap)\n",
    "    plt.title(title)\n",
    "    plt.colorbar()\n",
    "\n",
    "    tick_marks = np.arange(len(target_names))\n",
    "    plt.xticks(tick_marks, target_names, rotation=45)\n",
    "    plt.yticks(tick_marks, target_names)\n",
    "\n",
    "    thresh = (cm.max() + cm.min()) / 2.0 if normalize else cm.max() / 2.0\n",
    "\n",
    "    for i, j in itertools.product(range(cm.shape[0]), range(cm.shape[1])):\n",
    "        text_color = \"white\" if cm[i, j] > thresh else \"black\"\n",
    "        plt.text(j, i, f\"{cm[i, j]}\", horizontalalignment=\"center\", color=text_color)\n",
    "\n",
    "    plt.tight_layout()\n",
    "    plt.ylabel('True labels')\n",
    "    plt.xlabel(f'Predicted labels\\n\\naccuracy = {accuracy:.4f}; Misclassification rate = {misclass:.4f}')\n",
    "    plt.show()\n",
    "\n",
    "plot_confusion_matrix(confusion_matrix(test_true, test_pred), target_names = ['negative', 'neutral', 'positive'])"
   ]
  },
  {
   "cell_type": "code",
   "execution_count": null,
   "metadata": {},
   "outputs": [],
   "source": [
    "for i, target_name in enumerate(['negative', 'neutral', 'positive']):\n",
    "    print(f\"F1 score ({target_name}): {f1_score(test_true, test_pred, average=None)[i]:.4f}\")"
   ]
  }
 ],
 "metadata": {
  "kernelspec": {
   "display_name": "Python 3 (ipykernel)",
   "language": "python",
   "name": "python3"
  },
  "language_info": {
   "codemirror_mode": {
    "name": "ipython",
    "version": 3
   },
   "file_extension": ".py",
   "mimetype": "text/x-python",
   "name": "python",
   "nbconvert_exporter": "python",
   "pygments_lexer": "ipython3",
   "version": "3.9.16"
  }
 },
 "nbformat": 4,
 "nbformat_minor": 2
}
